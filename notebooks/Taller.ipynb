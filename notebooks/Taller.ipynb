{
 "cells": [
  {
   "cell_type": "markdown",
   "metadata": {
    "slideshow": {
     "slide_type": "slide"
    }
   },
   "source": [
    "# asyncio 101 - Python Cooperativo"
   ]
  },
  {
   "cell_type": "markdown",
   "metadata": {
    "slideshow": {
     "slide_type": "slide"
    }
   },
   "source": [
    "Cuando se habla de concurrencia se suele hablar de dos conceptos, IO-bound y CPU-bound."
   ]
  },
  {
   "cell_type": "markdown",
   "metadata": {
    "slideshow": {
     "slide_type": "slide"
    }
   },
   "source": [
    "## CPU-bound"
   ]
  },
  {
   "cell_type": "markdown",
   "metadata": {},
   "source": [
    "Tareas de cómputo que requieren intensamente el CPU. Operaciones matemáticas, cálculo científico, etc.\n",
    "\n",
    "Se pueden optimizar aplicando **paralelismo** (tareas ejecutadas a la vez en distintos CPU cores)."
   ]
  },
  {
   "cell_type": "markdown",
   "metadata": {
    "slideshow": {
     "slide_type": "slide"
    }
   },
   "source": [
    "## IO-bound"
   ]
  },
  {
   "cell_type": "markdown",
   "metadata": {},
   "source": [
    "Tareas que requieren operaciones de entrada/salida. Vamos a enfocarnos en estas.\n",
    "\n",
    "Ocurre cuando hay por ejemplo:\n",
    "- lectura/escritura de archivos \n",
    "- comunicación server/client\n",
    "- requests a API externas\n",
    "- consultas a DB\n",
    "- etc"
   ]
  },
  {
   "cell_type": "markdown",
   "metadata": {
    "slideshow": {
     "slide_type": "subslide"
    }
   },
   "source": [
    "Cuando existe una operacion de I/O, el CPU se queda **esperando**.\n",
    "\n",
    "Este escenario se puede optimizar con **concurrencia**. Las tareas podrían ejecutarse concurrentemente."
   ]
  },
  {
   "cell_type": "markdown",
   "metadata": {
    "slideshow": {
     "slide_type": "slide"
    }
   },
   "source": [
    "## Ejemplo simple y sincrónico"
   ]
  },
  {
   "cell_type": "code",
   "execution_count": 1,
   "metadata": {
    "slideshow": {
     "slide_type": "fragment"
    }
   },
   "outputs": [],
   "source": [
    "import requests"
   ]
  },
  {
   "cell_type": "code",
   "execution_count": 2,
   "metadata": {
    "slideshow": {
     "slide_type": "fragment"
    }
   },
   "outputs": [],
   "source": [
    "def fetch(session, url):\n",
    "    response = session.get(url)\n",
    "    print(f\"[{response.status_code}] {url}\")"
   ]
  },
  {
   "cell_type": "code",
   "execution_count": 3,
   "metadata": {
    "slideshow": {
     "slide_type": "fragment"
    }
   },
   "outputs": [],
   "source": [
    "urls = [\n",
    "    f\"https://jsonplaceholder.typicode.com/posts/{i}\"\n",
    "    for i in range(1, 20)\n",
    "]"
   ]
  },
  {
   "cell_type": "code",
   "execution_count": 4,
   "metadata": {
    "slideshow": {
     "slide_type": "fragment"
    }
   },
   "outputs": [
    {
     "data": {
      "text/plain": [
       "['https://jsonplaceholder.typicode.com/posts/1',\n",
       " 'https://jsonplaceholder.typicode.com/posts/2',\n",
       " 'https://jsonplaceholder.typicode.com/posts/3',\n",
       " 'https://jsonplaceholder.typicode.com/posts/4',\n",
       " 'https://jsonplaceholder.typicode.com/posts/5',\n",
       " 'https://jsonplaceholder.typicode.com/posts/6',\n",
       " 'https://jsonplaceholder.typicode.com/posts/7',\n",
       " 'https://jsonplaceholder.typicode.com/posts/8',\n",
       " 'https://jsonplaceholder.typicode.com/posts/9',\n",
       " 'https://jsonplaceholder.typicode.com/posts/10',\n",
       " 'https://jsonplaceholder.typicode.com/posts/11',\n",
       " 'https://jsonplaceholder.typicode.com/posts/12',\n",
       " 'https://jsonplaceholder.typicode.com/posts/13',\n",
       " 'https://jsonplaceholder.typicode.com/posts/14',\n",
       " 'https://jsonplaceholder.typicode.com/posts/15',\n",
       " 'https://jsonplaceholder.typicode.com/posts/16',\n",
       " 'https://jsonplaceholder.typicode.com/posts/17',\n",
       " 'https://jsonplaceholder.typicode.com/posts/18',\n",
       " 'https://jsonplaceholder.typicode.com/posts/19']"
      ]
     },
     "execution_count": 4,
     "metadata": {},
     "output_type": "execute_result"
    }
   ],
   "source": [
    "urls"
   ]
  },
  {
   "cell_type": "code",
   "execution_count": 7,
   "metadata": {
    "slideshow": {
     "slide_type": "subslide"
    }
   },
   "outputs": [],
   "source": [
    "def fetch_urls():\n",
    "    session = requests.Session()\n",
    "    for url in urls:\n",
    "        fetch(session, url)"
   ]
  },
  {
   "cell_type": "code",
   "execution_count": 8,
   "metadata": {
    "slideshow": {
     "slide_type": "fragment"
    }
   },
   "outputs": [
    {
     "name": "stdout",
     "output_type": "stream",
     "text": [
      "[200] https://jsonplaceholder.typicode.com/posts/1\n",
      "[200] https://jsonplaceholder.typicode.com/posts/2\n",
      "[200] https://jsonplaceholder.typicode.com/posts/3\n",
      "[200] https://jsonplaceholder.typicode.com/posts/4\n",
      "[200] https://jsonplaceholder.typicode.com/posts/5\n",
      "[200] https://jsonplaceholder.typicode.com/posts/6\n",
      "[200] https://jsonplaceholder.typicode.com/posts/7\n",
      "[200] https://jsonplaceholder.typicode.com/posts/8\n",
      "[200] https://jsonplaceholder.typicode.com/posts/9\n",
      "[200] https://jsonplaceholder.typicode.com/posts/10\n",
      "[200] https://jsonplaceholder.typicode.com/posts/11\n",
      "[200] https://jsonplaceholder.typicode.com/posts/12\n",
      "[200] https://jsonplaceholder.typicode.com/posts/13\n",
      "[200] https://jsonplaceholder.typicode.com/posts/14\n",
      "[200] https://jsonplaceholder.typicode.com/posts/15\n",
      "[200] https://jsonplaceholder.typicode.com/posts/16\n",
      "[200] https://jsonplaceholder.typicode.com/posts/17\n",
      "[200] https://jsonplaceholder.typicode.com/posts/18\n",
      "[200] https://jsonplaceholder.typicode.com/posts/19\n",
      "CPU times: user 358 ms, sys: 21.5 ms, total: 379 ms\n",
      "Wall time: 4.09 s\n"
     ]
    }
   ],
   "source": [
    "%time fetch_urls()"
   ]
  },
  {
   "attachments": {},
   "cell_type": "markdown",
   "metadata": {
    "slideshow": {
     "slide_type": "subslide"
    }
   },
   "source": [
    "![image.png](https://files.realpython.com/media/IOBound.4810a888b457.png)"
   ]
  },
  {
   "cell_type": "markdown",
   "metadata": {
    "slideshow": {
     "slide_type": "slide"
    }
   },
   "source": [
    "## Ejemplo usando threads"
   ]
  },
  {
   "cell_type": "code",
   "execution_count": 9,
   "metadata": {
    "slideshow": {
     "slide_type": "fragment"
    }
   },
   "outputs": [],
   "source": [
    "import concurrent.futures"
   ]
  },
  {
   "cell_type": "code",
   "execution_count": 10,
   "metadata": {
    "slideshow": {
     "slide_type": "fragment"
    }
   },
   "outputs": [],
   "source": [
    "def fetch_urls_with_threads(limit=None):\n",
    "    session = requests.Session()\n",
    "    \n",
    "    with concurrent.futures.ThreadPoolExecutor(max_workers=limit) as executor:\n",
    "        tasks = [\n",
    "            executor.submit(fetch, session, url)\n",
    "            for url in urls\n",
    "        ]\n",
    "        concurrent.futures.wait(tasks)"
   ]
  },
  {
   "cell_type": "markdown",
   "metadata": {
    "slideshow": {
     "slide_type": "fragment"
    }
   },
   "source": [
    "`ThreadPoolExecutor` nos provee un context manager, para abstraernos de la creacion y liberación (start, join, close) de los threads."
   ]
  },
  {
   "cell_type": "code",
   "execution_count": 11,
   "metadata": {
    "slideshow": {
     "slide_type": "subslide"
    }
   },
   "outputs": [
    {
     "name": "stdout",
     "output_type": "stream",
     "text": [
      "[200] https://jsonplaceholder.typicode.com/posts/1\n",
      "[200] https://jsonplaceholder.typicode.com/posts/2\n",
      "[200] https://jsonplaceholder.typicode.com/posts/3\n",
      "[200] https://jsonplaceholder.typicode.com/posts/4\n",
      "[200] https://jsonplaceholder.typicode.com/posts/5\n",
      "[200] https://jsonplaceholder.typicode.com/posts/6\n",
      "[200] https://jsonplaceholder.typicode.com/posts/7\n",
      "[200] https://jsonplaceholder.typicode.com/posts/8\n",
      "[200] https://jsonplaceholder.typicode.com/posts/9\n",
      "[200] https://jsonplaceholder.typicode.com/posts/10\n",
      "[200] https://jsonplaceholder.typicode.com/posts/11\n",
      "[200] https://jsonplaceholder.typicode.com/posts/12\n",
      "[200] https://jsonplaceholder.typicode.com/posts/13\n",
      "[200] https://jsonplaceholder.typicode.com/posts/14\n",
      "[200] https://jsonplaceholder.typicode.com/posts/15\n",
      "[200] https://jsonplaceholder.typicode.com/posts/16\n",
      "[200] https://jsonplaceholder.typicode.com/posts/17\n",
      "[200] https://jsonplaceholder.typicode.com/posts/18\n",
      "[200] https://jsonplaceholder.typicode.com/posts/19\n",
      "CPU times: user 470 ms, sys: 34 ms, total: 504 ms\n",
      "Wall time: 1.71 s\n"
     ]
    }
   ],
   "source": [
    "%time fetch_urls_with_threads(3)"
   ]
  },
  {
   "attachments": {},
   "cell_type": "markdown",
   "metadata": {
    "slideshow": {
     "slide_type": "subslide"
    }
   },
   "source": [
    "![image.png](https://files.realpython.com/media/Threading.3eef48da829e.png)"
   ]
  },
  {
   "cell_type": "markdown",
   "metadata": {
    "slideshow": {
     "slide_type": "subslide"
    }
   },
   "source": [
    "## qué tal?"
   ]
  },
  {
   "cell_type": "markdown",
   "metadata": {
    "slideshow": {
     "slide_type": "-"
    }
   },
   "source": [
    "Pros:\n",
    "- Mejora notablemente los tiempos\n",
    "- No bloquea el hilo principal"
   ]
  },
  {
   "cell_type": "markdown",
   "metadata": {
    "slideshow": {
     "slide_type": "subslide"
    }
   },
   "source": [
    "A tener en cuenta:\n",
    "- Los threads son manejados por el SO. El SO es quien decide a que thread del sistema darle ejecución.\n",
    "- Hay microdelays por context switching. (En 100 tareas no se nota pero en >8000 si, por decir algo)\n",
    "- Cualquier variable compartida entre los threads tiene que ser protegida (tiene que ser **thread-safe**). Por lo tanto, requiere manejo de primitivas de sincronización de acceso/escritura. ie. (locks, semaforos, etc)"
   ]
  },
  {
   "cell_type": "markdown",
   "metadata": {
    "slideshow": {
     "slide_type": "fragment"
    }
   },
   "source": [
    "Cons:\n",
    "- No ayuda en tareas CPU-bound. El GIL (Global Interpreter Lock) de Python hace que los threads se ejecuten sincrónicamente, o sea, lo mismo que correr solo en un solo thread.\n",
    "- Para tareas CPU-bound conviene usar `multiprocessing` o `concurrent.futures.ThreadProcessPool`"
   ]
  },
  {
   "cell_type": "markdown",
   "metadata": {
    "slideshow": {
     "slide_type": "slide"
    }
   },
   "source": [
    "## Ejemplo usando asyncio"
   ]
  },
  {
   "cell_type": "code",
   "execution_count": 12,
   "metadata": {
    "slideshow": {
     "slide_type": "fragment"
    }
   },
   "outputs": [],
   "source": [
    "import asyncio\n",
    "import httpx\n",
    "import time"
   ]
  },
  {
   "cell_type": "code",
   "execution_count": 13,
   "metadata": {
    "slideshow": {
     "slide_type": "fragment"
    }
   },
   "outputs": [],
   "source": [
    "async def fetch(session, url):\n",
    "    response = await session.get(url)\n",
    "    print(f\"[{response.status_code}] {url}\")"
   ]
  },
  {
   "cell_type": "code",
   "execution_count": 14,
   "metadata": {
    "slideshow": {
     "slide_type": "fragment"
    }
   },
   "outputs": [],
   "source": [
    "async def fetch_urls_with_asyncio():\n",
    "    async with httpx.AsyncClient() as session:\n",
    "        tasks = [\n",
    "            fetch(session, url)\n",
    "            for url in urls\n",
    "        ]\n",
    "        await asyncio.gather(*tasks)"
   ]
  },
  {
   "cell_type": "code",
   "execution_count": 15,
   "metadata": {
    "slideshow": {
     "slide_type": "subslide"
    }
   },
   "outputs": [
    {
     "name": "stdout",
     "output_type": "stream",
     "text": [
      "[200] https://jsonplaceholder.typicode.com/posts/13\n",
      "[200] https://jsonplaceholder.typicode.com/posts/16\n",
      "[200] https://jsonplaceholder.typicode.com/posts/14\n",
      "[200] https://jsonplaceholder.typicode.com/posts/19\n",
      "[200] https://jsonplaceholder.typicode.com/posts/2\n",
      "[200] https://jsonplaceholder.typicode.com/posts/12\n",
      "[200] https://jsonplaceholder.typicode.com/posts/5\n",
      "[200] https://jsonplaceholder.typicode.com/posts/9\n",
      "[200] https://jsonplaceholder.typicode.com/posts/11\n",
      "[200] https://jsonplaceholder.typicode.com/posts/1\n",
      "[200] https://jsonplaceholder.typicode.com/posts/18\n",
      "[200] https://jsonplaceholder.typicode.com/posts/10\n",
      "[200] https://jsonplaceholder.typicode.com/posts/7\n",
      "[200] https://jsonplaceholder.typicode.com/posts/6\n",
      "[200] https://jsonplaceholder.typicode.com/posts/15\n",
      "[200] https://jsonplaceholder.typicode.com/posts/3\n",
      "[200] https://jsonplaceholder.typicode.com/posts/4\n",
      "[200] https://jsonplaceholder.typicode.com/posts/8\n",
      "[200] https://jsonplaceholder.typicode.com/posts/17\n",
      "Wall time: 0.95s\n"
     ]
    }
   ],
   "source": [
    "start = time.time()\n",
    "await fetch_urls_with_asyncio()\n",
    "end = time.time()\n",
    "print(f\"Wall time: {(end - start):.2f}s\")"
   ]
  },
  {
   "cell_type": "markdown",
   "metadata": {
    "slideshow": {
     "slide_type": "subslide"
    }
   },
   "source": [
    "## wow!\n",
    "Pros:\n",
    "- Tareas super livianas\n",
    "- No hay context switch\n",
    "- Todo ocurre en el mismo proceso/thread\n",
    "- No requiere manejo de memoria compartida\n",
    "- Hace que Python sea una solución competente (y simple) contra lenguages como Go"
   ]
  },
  {
   "cell_type": "markdown",
   "metadata": {
    "slideshow": {
     "slide_type": "subslide"
    }
   },
   "source": [
    "A tener en cuenta:\n",
    "- Al ser cooperativo, significa que si una tarea es bloqueante, todas las otras lo serán. \n",
    "- Por lo tanto, es necesario que todo este pensado cooperativamente, inclusive las librerías a usar.\n",
    "\n",
    "sync | async\n",
    "--- | ---\n",
    "redis | aioredis\n",
    "requests | httpx / aiohttp\n",
    "sleep | asyncio.sleep\n",
    "mysqldb | aiomysql\n",
    "psycopg | aiopg\n",
    "\n",
    "...etc"
   ]
  },
  {
   "cell_type": "markdown",
   "metadata": {
    "slideshow": {
     "slide_type": "subslide"
    }
   },
   "source": [
    "A diferencia de los threads, en asyncio, cuando una tarea/corutina se queda esperando por IO, le cede el control al main loop de asyncio para que otra tarea/corutina pueda correr. \n",
    "\n",
    "El main loop no es mas que un objecto Python que maneja una cola de tareas.\n",
    "\n",
    "A esto se le suele decir *multitasking cooperativo*."
   ]
  },
  {
   "cell_type": "markdown",
   "metadata": {
    "slideshow": {
     "slide_type": "fragment"
    }
   },
   "source": [
    "### Mas info\n",
    "- Entendiendo asyncio sin usar asyncio - https://www.youtube.com/watch?v=BenwwgMx3Hg\n",
    "- Python Concurreny - https://realpython.com/python-concurrency/"
   ]
  }
 ],
 "metadata": {
  "celltoolbar": "Slideshow",
  "kernelspec": {
   "display_name": "Python 3",
   "language": "python",
   "name": "python3"
  },
  "language_info": {
   "codemirror_mode": {
    "name": "ipython",
    "version": 3
   },
   "file_extension": ".py",
   "mimetype": "text/x-python",
   "name": "python",
   "nbconvert_exporter": "python",
   "pygments_lexer": "ipython3",
   "version": "3.7.3"
  },
  "rise": {
   "autolaunch": true,
   "backimage": "bg.jpg",
   "scroll": true
  }
 },
 "nbformat": 4,
 "nbformat_minor": 4
}
